{
 "cells": [
  {
   "cell_type": "code",
   "execution_count": 1,
   "metadata": {
    "collapsed": true
   },
   "outputs": [],
   "source": [
    "import numpy as np"
   ]
  },
  {
   "cell_type": "code",
   "execution_count": 2,
   "metadata": {
    "collapsed": true
   },
   "outputs": [],
   "source": [
    "# input parameters\n",
    "#--sham <in.sham> --out <out.tsv> \\\n",
    "#--p01 <0 to 1 error rate> --p10 <1 to 0 error rate> \\\n",
    "#--prior1 <prior probability that each base is a 1>\n",
    "sham = 'tiny_example.sham'\n",
    "out = 'variant_calling.tsv'\n",
    "p01 = 0.1\n",
    "p10 = 0.1\n",
    "prior1 = 0.5"
   ]
  },
  {
   "cell_type": "code",
   "execution_count": 3,
   "metadata": {
    "collapsed": false
   },
   "outputs": [],
   "source": [
    "# Function for reading sham file\n",
    "def read_sham_file(sham):\n",
    "    with open (sham, 'r') as shamfile:\n",
    "        data = shamfile.readlines()\n",
    "    locations = []\n",
    "    reads = []\n",
    "    for d in data:\n",
    "        rd = d.split('\\t')\n",
    "        locations.append(int(rd[0]))\n",
    "        reads.append(rd[1].rstrip())\n",
    "    return locations, reads"
   ]
  },
  {
   "cell_type": "code",
   "execution_count": 4,
   "metadata": {
    "collapsed": true
   },
   "outputs": [],
   "source": [
    "# Function for writing the result\n",
    "def write_result(out, posterior_prob, max_len):\n",
    "    with open (out, 'w') as out_file:\n",
    "        for i in range(max_len):\n",
    "            out_file.write(\"{}\\t{}\\n\".format(i, format(posterior_prob[i], '.3f')))\t"
   ]
  },
  {
   "cell_type": "code",
   "execution_count": 5,
   "metadata": {
    "collapsed": true
   },
   "outputs": [],
   "source": [
    "# Reading the input file\n",
    "locations, reads = read_sham_file(sham)"
   ]
  },
  {
   "cell_type": "code",
   "execution_count": 6,
   "metadata": {
    "collapsed": false
   },
   "outputs": [],
   "source": [
    "# Calculating the max size of the predicted string to pre-alocate the arrays\n",
    "max_len = max([locations[i]+len(reads[i]) for i in range(len(reads))])"
   ]
  },
  {
   "cell_type": "code",
   "execution_count": 7,
   "metadata": {
    "collapsed": false
   },
   "outputs": [],
   "source": [
    "# Number of zeros at every location\n",
    "zeros = np.zeros(max_len, int)\n",
    "# Number of ones at every location\n",
    "ones = np.zeros(max_len, int)"
   ]
  },
  {
   "cell_type": "code",
   "execution_count": 8,
   "metadata": {
    "collapsed": false
   },
   "outputs": [],
   "source": [
    "# Loop over reads to calculate the number of ones and zeros at every location\n",
    "for i in range(len(reads)):\n",
    "    rd_ones = np.array([int(n) for n in reads[i]])\n",
    "    lc = locations[i] \n",
    "    ones[lc:lc+rd_ones.shape[0]] += rd_ones \n",
    "    zeros[lc:lc+rd_ones.shape[0]] += (1-rd_ones)"
   ]
  },
  {
   "cell_type": "code",
   "execution_count": 9,
   "metadata": {
    "collapsed": false
   },
   "outputs": [],
   "source": [
    "# Pre-alocate the posterior probabilities\n",
    "posterior_prob = np.zeros(max_len, float)"
   ]
  },
  {
   "cell_type": "code",
   "execution_count": 10,
   "metadata": {
    "collapsed": false
   },
   "outputs": [],
   "source": [
    "# Calculate the posterior probabilities at every location\n",
    "for i in range(max_len):\n",
    "    numerator = (p10**zeros[i]) * ((1-p10)**ones[i]) * prior1\n",
    "    denominator = numerator + (p01**ones[i]) * ((1-p01)**zeros[i]) * (1-prior1)\n",
    "    posterior_prob[i] = numerator / denominator"
   ]
  },
  {
   "cell_type": "code",
   "execution_count": 11,
   "metadata": {
    "collapsed": false
   },
   "outputs": [],
   "source": [
    "# Writing the result to the output file\n",
    "write_result(out, posterior_prob, max_len)"
   ]
  },
  {
   "cell_type": "code",
   "execution_count": null,
   "metadata": {
    "collapsed": true
   },
   "outputs": [],
   "source": []
  }
 ],
 "metadata": {
  "kernelspec": {
   "display_name": "Python 2",
   "language": "python",
   "name": "python2"
  },
  "language_info": {
   "codemirror_mode": {
    "name": "ipython",
    "version": 2
   },
   "file_extension": ".py",
   "mimetype": "text/x-python",
   "name": "python",
   "nbconvert_exporter": "python",
   "pygments_lexer": "ipython2",
   "version": "2.7.10"
  }
 },
 "nbformat": 4,
 "nbformat_minor": 0
}
